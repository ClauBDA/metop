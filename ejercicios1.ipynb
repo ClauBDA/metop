{
 "cells": [
  {
   "cell_type": "markdown",
   "metadata": {},
   "source": [
    "Ejercicio 1"
   ]
  },
  {
   "cell_type": "code",
   "execution_count": 9,
   "metadata": {},
   "outputs": [
    {
     "name": "stdout",
     "output_type": "stream",
     "text": [
      "¡Hola mundo!\n"
     ]
    }
   ],
   "source": [
    "#Imprimir la cadena de texto (string): “¡Hola mundo!”\n",
    "\n",
    "print(\"¡Hola mundo!\")"
   ]
  },
  {
   "cell_type": "markdown",
   "metadata": {},
   "source": [
    "Ejercicio 2"
   ]
  },
  {
   "cell_type": "code",
   "execution_count": 8,
   "metadata": {},
   "outputs": [
    {
     "name": "stdout",
     "output_type": "stream",
     "text": [
      "Hola Claudia\n"
     ]
    }
   ],
   "source": [
    "\"\"\"\n",
    "Solicitar al usuario por consola su nombre e imprimirlo con el siguiente formato: “Hola %nombre!”. \n",
    "Donde nombre es el nombre que el usuario introdujo. (Buscar cómo obtener datos ingresados por consola \n",
    "y formateo de cadenas de texto).\n",
    "\"\"\"\n",
    "\n",
    "myName=str(\"Claudia\")\n",
    "\n",
    "print(\"Hola \"+myName)"
   ]
  },
  {
   "cell_type": "markdown",
   "metadata": {},
   "source": [
    "Ejercicio 3"
   ]
  },
  {
   "cell_type": "code",
   "execution_count": 10,
   "metadata": {},
   "outputs": [
    {
     "name": "stdout",
     "output_type": "stream",
     "text": [
      "¡Hola mundo!\n"
     ]
    }
   ],
   "source": [
    "#Almacenar la cadena “¡Hola mundo!” en una variable e imprimir\n",
    "\n",
    "saludo=str(\"¡Hola mundo!\")\n",
    "\n",
    "print(saludo)"
   ]
  },
  {
   "cell_type": "markdown",
   "metadata": {},
   "source": [
    "Ejercicio 4"
   ]
  },
  {
   "cell_type": "code",
   "execution_count": 26,
   "metadata": {},
   "outputs": [
    {
     "name": "stdout",
     "output_type": "stream",
     "text": [
      "Claudia\n",
      "Claudia\n",
      "Claudia\n",
      "Claudia\n",
      "Claudia\n",
      "Claudia\n",
      "Claudia\n",
      "\n"
     ]
    }
   ],
   "source": [
    "\"\"\"\n",
    "Escribir un programa que pregunte el nombre del usuario en la consola y un número\n",
    "entero e imprima por pantalla en líneas distintas el nombre del usuario tantas veces\n",
    "como el número introducido.\n",
    "\"\"\"\n",
    "\n",
    "nombre=input(\"¿Cual es tu nombre?\")\n",
    "\n",
    "numero=int(input(\"Dime un numero\"))\n",
    "\n",
    "print((nombre+\"\\n\")*numero)"
   ]
  },
  {
   "cell_type": "markdown",
   "metadata": {},
   "source": [
    "Ejercicio 5"
   ]
  },
  {
   "cell_type": "code",
   "execution_count": 32,
   "metadata": {},
   "outputs": [
    {
     "name": "stdout",
     "output_type": "stream",
     "text": [
      "Claudia\n",
      "3140375805552\n",
      "CLAUDIA\n",
      "claudia\n"
     ]
    }
   ],
   "source": [
    "\"\"\"\n",
    "Crear la variable que contenga tu primer nombre.\n",
    "Luego:\n",
    "A. Imprimir la variable por pantalla.\n",
    "B. Imprimir el ID por pantalla.\n",
    "C. Pasar ese nombre a mayúsculas e imprimirlo por pantalla.\n",
    "\"\"\"\n",
    "\n",
    "firstName=str(\"Claudia\")\n",
    "\n",
    "print(firstName)\n",
    "\n",
    "print(id(firstName))\n",
    "\n",
    "firstName=str(\"CLAUDIA\")\n",
    "\n",
    "print(firstName)\n",
    "\n",
    "#Se puede cambiar el nombre con swapcase .swapcase()\n",
    "\n",
    "firstName_swapped=firstName.swapcase()\n",
    "\n",
    "print(firstName_swapped)"
   ]
  },
  {
   "cell_type": "markdown",
   "metadata": {},
   "source": [
    "Ejercicio 6"
   ]
  },
  {
   "cell_type": "code",
   "execution_count": 30,
   "metadata": {},
   "outputs": [
    {
     "name": "stdout",
     "output_type": "stream",
     "text": [
      "0.25\n",
      "3140377918736\n",
      "<class 'float'>\n"
     ]
    }
   ],
   "source": [
    "\"\"\"\n",
    "Realizar la siguiente operación aritmética e imprimir su resultado por pantalla.\n",
    "También imprimir el tipo de dato resultante y su id.\n",
    "\"\"\"\n",
    "x=(((3+2)/(2*5))**2)\n",
    "\n",
    "print(x)\n",
    "\n",
    "print(id(x))\n",
    "\n",
    "print(type(x))"
   ]
  },
  {
   "cell_type": "markdown",
   "metadata": {},
   "source": [
    "Ejercicio 7"
   ]
  },
  {
   "cell_type": "code",
   "execution_count": 35,
   "metadata": {},
   "outputs": [
    {
     "name": "stdout",
     "output_type": "stream",
     "text": [
      "CLAUDIA tiene 7 letras\n"
     ]
    }
   ],
   "source": [
    "\"\"\"\n",
    "Pregunte el nombre del usuario en la consola y después de que el usuario lo\n",
    "introduzca muestre por pantalla <NOMBRE> tienen> <n> letras, donde <NOMBRE> es el\n",
    "nombre de usuario en mayúsculas y <n> es el número de letras que tienen el nombre.\n",
    "\"\"\"\n",
    "Nombre=input(\"¿Cual es tu nombre?\")\n",
    "\n",
    "n=len(Nombre)\n",
    "\n",
    "print(Nombre.upper(), \"tiene\", n, \"letras\")"
   ]
  },
  {
   "cell_type": "markdown",
   "metadata": {},
   "source": [
    "Ejercicio 8"
   ]
  },
  {
   "cell_type": "code",
   "execution_count": 45,
   "metadata": {},
   "outputs": [
    {
     "name": "stdout",
     "output_type": "stream",
     "text": [
      "+54-123456789-10\n",
      "El número de teléfono es 123456789\n"
     ]
    }
   ],
   "source": [
    "\"\"\"\n",
    "Los teléfonos de una empresa tienen el siguiente formato prefijo-número-extensión\n",
    "donde el prefijo es el código del país +34, y la extensión tiene dos dígitos (por\n",
    "ejemplo +34-913724710-56). Escribir un programa que pregunte por un número de\n",
    "teléfono con este formato y muestre por pantalla el número de teléfono sin el prefijo\n",
    "y la extensión.\n",
    "\"\"\"\n",
    "\n",
    "telefono=input(\"¿Cual es tu número de teléfono? Use el formato +xx-xxxxxxxxx-xx:\")\n",
    "\n",
    "print(telefono)\n",
    "\n",
    "print(\"El número de teléfono es\", telefono[4:13])\n"
   ]
  },
  {
   "cell_type": "markdown",
   "metadata": {},
   "source": [
    "Ejercicio 9"
   ]
  },
  {
   "cell_type": "code",
   "execution_count": 49,
   "metadata": {},
   "outputs": [
    {
     "name": "stdout",
     "output_type": "stream",
     "text": [
      "Me corresponde un pago de 8000 pesos\n"
     ]
    }
   ],
   "source": [
    "\"\"\"\n",
    "Solicitar al usuario la cantidad de horas que trabaja en el día, y el coste por hora.\n",
    "Después mostrar por consola la paga que le corresponde.\n",
    "\"\"\"\n",
    "\n",
    "horas=int(input(\"¿Cuántas horas trabajas por dia?\"))\n",
    "\n",
    "coste=int(input(\"¿Cuánto te pagan por hora?\"))\n",
    "\n",
    "print(\"Me corresponde un pago de\", horas*coste, \"pesos\")"
   ]
  },
  {
   "cell_type": "markdown",
   "metadata": {},
   "source": [
    "Ejercicio 10"
   ]
  },
  {
   "cell_type": "code",
   "execution_count": 55,
   "metadata": {},
   "outputs": [
    {
     "name": "stdout",
     "output_type": "stream",
     "text": [
      "En el paquete hay 3 monsteras y 4 suculentas\n",
      "El peso del paquete es 5.7 kg\n"
     ]
    }
   ],
   "source": [
    "\"\"\"\n",
    "Un vivero tiene mucho éxito en dos de sus plantas: monsteras y suculentas. Suele\n",
    "hacer venta por correo y la empresa de logística les cobra por peso de cada paquete\n",
    "así que deben calcular el peso de las plantas que saldrán en cada paquete a\n",
    "demanda. Cada monstera pesa 1,5kg y cada suculenta 300g. Escribir un programa\n",
    "que lea el número de monsteras y suculentas vendidas en el último pedido y calcule \n",
    "el peso total del paquete que será enviado. El peso de las monsteras sera ingresado\n",
    "en kg, el de las suculentas en gramos y el peso resultante debe ser impreso por\n",
    "consola en kg hasta dos decimales.\n",
    "\"\"\"\n",
    "monsteras=int(input(\"¿Cuántas monsteras están en el pedido?\"))\n",
    "\n",
    "suculentas=int(input(\"¿Cuántas suculentas están en el pedido?\"))\n",
    "\n",
    "print(\"En el paquete hay\", monsteras, \"monsteras y\", suculentas, \"suculentas\")\n",
    "\n",
    "print(\"El peso del paquete es\", (monsteras*1.5)+(suculentas*0.3), \"kg\")"
   ]
  },
  {
   "cell_type": "markdown",
   "metadata": {},
   "source": [
    "Ejercicio 11*"
   ]
  },
  {
   "cell_type": "code",
   "execution_count": 104,
   "metadata": {},
   "outputs": [
    {
     "name": "stdout",
     "output_type": "stream",
     "text": [
      "Los numeros son  [1, 2, 3]\n",
      "El resultado de la suma es 6\n",
      "El resultado de la multiplicacion es 6\n"
     ]
    }
   ],
   "source": [
    "\"\"\"\n",
    "Escribir un programa que lea por teclado 3 números y los guarde en una lista. Luego\n",
    "debe mostrar la suma y el producto de los elementos. Aquí tendrás que usar el\n",
    "método input()\n",
    "\"\"\"\n",
    "n1=int(input(\"Dime un numero\"))\n",
    "n2=int(input(\"Dime otro numero\"))\n",
    "n3=int(input(\"Dime otro más\"))\n",
    "\n",
    "lista=[n1,n2,n3]\n",
    "\n",
    "print(\"Los numeros son \", lista)\n",
    "\n",
    "suma=n1+n2+n3\n",
    "mult=n1*n2*n3\n",
    "print(\"El resultado de la suma es\", suma)\n",
    "print(\"El resultado de la multiplicacion es\", mult)\n",
    "\n",
    "\n"
   ]
  },
  {
   "cell_type": "markdown",
   "metadata": {},
   "source": [
    "Ejercicio 12"
   ]
  },
  {
   "cell_type": "code",
   "execution_count": 94,
   "metadata": {},
   "outputs": [
    {
     "name": "stdout",
     "output_type": "stream",
     "text": [
      "['De Gasperi', 'Nenni', 'Brosio', 'Giannini', 'Pacciardi']\n",
      "El primer candidato es De Gasperi\n",
      "El segundo candidato es Nenni\n",
      "El ultimo candidato es Pacciardi\n"
     ]
    }
   ],
   "source": [
    "\"\"\"\n",
    "Dada la siguiente lista\n",
    "candidatos = [“De Gasperi”, “Nenni”, “Brosio”, “Giannini”, “Pacciardi”]\n",
    "\n",
    "A. Imprimir el primer elemento.\n",
    "B. Imprimir el segundo elemento.\n",
    "C. Imprimir el último elemento.\n",
    "\n",
    "\"\"\"\n",
    "\n",
    "candidatosList=[\"De Gasperi\", \"Nenni\", \"Brosio\", \"Giannini\", \"Pacciardi\"]\n",
    "\n",
    "print(candidatosList)\n",
    "\n",
    "print(\"El primer candidato es\", candidatosList[0])\n",
    "\n",
    "print(\"El segundo candidato es\", candidatosList[1])\n",
    "\n",
    "print(\"El ultimo candidato es\", candidatosList[-1])\n"
   ]
  },
  {
   "cell_type": "markdown",
   "metadata": {},
   "source": [
    "Ejercicio 13"
   ]
  },
  {
   "cell_type": "code",
   "execution_count": 93,
   "metadata": {},
   "outputs": [
    {
     "name": "stdout",
     "output_type": "stream",
     "text": [
      "{'1990': '2314', '1991': '84', '1992': '17.5', '1993': '7.4', '1994': '3.9', '1995': '1.6', '1996': '0.1', '1997': '0.3', '1998': '0.7', '1999': '-1.2'}\n"
     ]
    }
   ],
   "source": [
    "\"\"\"\n",
    "Crear un diccionario a partir de las siguientes listas donde anio sea la clave y\n",
    "porcentaje sea el valor.\n",
    "anio = [1990, 1991, 1992, 1993, 1994, 1995, 1996, 1997, 1998, 1999]\n",
    "porcentaje = [2314, 84, 17.5, 7.4, 3.9, 1.6 , 0.1, 0.3, 0.7, -1.2]\n",
    "\"\"\"\n",
    "\n",
    "d1 = {\n",
    "  \"1990\": \"2314\",\n",
    "  \"1991\": \"84\",\n",
    "  \"1992\": \"17.5\",\n",
    "  \"1993\": \"7.4\",\n",
    "  \"1994\": \"3.9\",\n",
    "  \"1995\": \"1.6\",\n",
    "  \"1996\": \"0.1\",\n",
    "  \"1997\": \"0.3\",\n",
    "  \"1998\": \"0.7\",\n",
    "  \"1999\": \"-1.2\",\n",
    "}\n",
    "\n",
    "print(d1)"
   ]
  },
  {
   "cell_type": "markdown",
   "metadata": {},
   "source": [
    "Ejercicio 14"
   ]
  },
  {
   "cell_type": "code",
   "execution_count": 105,
   "metadata": {},
   "outputs": [
    {
     "name": "stdout",
     "output_type": "stream",
     "text": [
      "dict_keys(['95123123', '95123124', '95123125', '95123126', '95123127'])\n",
      "dict_values(['Laura', 'Rafael', 'Pedro', 'Hayde', 'Mayra'])\n",
      "dict_items([('95123123', 'Laura'), ('95123124', 'Rafael'), ('95123125', 'Pedro'), ('95123126', 'Hayde'), ('95123127', 'Mayra')])\n"
     ]
    }
   ],
   "source": [
    "\"\"\"\n",
    "Crear un diccionario con 5 personas, cuya clave sea el DNI y el dato sea el nombre de\n",
    "la persona.\n",
    "A. Obtener los DNI de las personas\n",
    "B. Obtener los nombres de las personas.\n",
    "C. Obtener los DNI y los nombres de las personas\n",
    "\"\"\"\n",
    "\n",
    "d3 = {\n",
    "  \"95123123\": \"Laura\",\n",
    "  \"95123124\": \"Rafael\",\n",
    "  \"95123125\": \"Pedro\",\n",
    "  \"95123126\": \"Hayde\",\n",
    "  \"95123127\": \"Mayra\",\n",
    "  }\n",
    "\n",
    "print(d3.keys())\n",
    "\n",
    "print(d3.values())\n",
    "\n",
    "print(d3.items())"
   ]
  },
  {
   "cell_type": "markdown",
   "metadata": {},
   "source": [
    "Ejercicio 15"
   ]
  },
  {
   "cell_type": "code",
   "execution_count": 96,
   "metadata": {},
   "outputs": [
    {
     "name": "stdout",
     "output_type": "stream",
     "text": [
      "{'Caba': '2890151', 'Pba': '15625084', 'Catamarca': '367828', 'Cordoba': '3308876'}\n",
      "{'Pba': '15625084', 'Catamarca': '367828', 'Cordoba': '3308876'}\n",
      "dict_items([('Pba', 456928), ('Catamarca', '367828'), ('Cordoba', '3308876')])\n",
      "{'Pba': 456928, 'Catamarca': '367828', 'Cordoba': '3308876', 'Corrientes': 992525}\n"
     ]
    }
   ],
   "source": [
    "\"\"\"\n",
    "Dado el siguiente diccionario \n",
    "poblacion = {'Caba' : 2890151, 'Pba' : 15625084, 'Catamarca' : 367828, 'Cordoba': 3308876}\n",
    "A. Eliminar la clave Caba.\n",
    "B. Modificar el valor de la clave Pba.\n",
    "C. Agregar la clave 'Corrientes' y asignarle el valor 992525.\n",
    "\"\"\"\n",
    "\n",
    "d2 = {\n",
    "  \"Caba\": \"2890151\",\n",
    "  \"Pba\": \"15625084\",\n",
    "  \"Catamarca\": \"367828\",\n",
    "  \"Cordoba\": \"3308876\",\n",
    "  }\n",
    "\n",
    "print(d2)\n",
    "\n",
    "del d2[\"Caba\"]\n",
    "\n",
    "print(d2)\n",
    "\n",
    "d2[\"Pba\"] = 456928\n",
    "\n",
    "print(d2.items())\n",
    "\n",
    "d2[\"Corrientes\"] = 992525\n",
    "\n",
    "print(d2)"
   ]
  },
  {
   "cell_type": "markdown",
   "metadata": {},
   "source": [
    "Ejercicio 16"
   ]
  },
  {
   "cell_type": "code",
   "execution_count": 98,
   "metadata": {},
   "outputs": [
    {
     "name": "stdout",
     "output_type": "stream",
     "text": [
      "El nombre del candidato A es Tony\n",
      "El año de nacimiento del candidato B 1961\n",
      "El apellido del candidato C Kennedy\n",
      "El año de nacimiento del candidato A 1953\n",
      "Este candidato no existe\n",
      "5873\n"
     ]
    }
   ],
   "source": [
    "\"\"\"\n",
    "Dado el siguiente diccionario anidado:\n",
    "Candidatos = {\n",
    "\"CandidatoA\" : {\n",
    "\"nombre\" : \"Tony\",\n",
    "\"apellido\": \"Blair\",\n",
    "\"anio\" : 1953\n",
    "},\n",
    "\"CandidatoB\" : {\n",
    "\"nombre\" : \"William\",\n",
    "\"apellido\": \"Hague\",\n",
    "\"anio\" : 1961\n",
    "},\n",
    "\"CandidatoC\" : {\n",
    "\"nombre\" : \"Charles\",\n",
    "\"apellido\": \"Kennedy\",\n",
    "\"anio\" : 1959\n",
    "}\n",
    "}\n",
    "A. Imprimir el nombre del candidato A.\n",
    "B. Imprimir el año de nacimiento del candidato B.\n",
    "C. Imprimir el apellido del candidato C.\n",
    "D. Imprimir el año de nacimiento del candidato A.\n",
    "E. Imprimir el apellido del Candidato D. Manejar el error si este no existe.\n",
    "F. Sumar los años de nacimiento de los tres candidatos y guardarlos en una variable.\n",
    "Luego imprimirlo.\n",
    "\"\"\"\n",
    "\n",
    "Candidatos = {\n",
    "\"CandidatoA\" : {\n",
    "\"nombre\" : \"Tony\",\n",
    "\"apellido\": \"Blair\",\n",
    "\"anio\" : 1953\n",
    "},\n",
    "\"CandidatoB\" : {\n",
    "\"nombre\" : \"William\",\n",
    "\"apellido\": \"Hague\",\n",
    "\"anio\" : 1961\n",
    "},\n",
    "\"CandidatoC\" : {\n",
    "\"nombre\" : \"Charles\",\n",
    "\"apellido\": \"Kennedy\",\n",
    "\"anio\" : 1959\n",
    "}\n",
    "}\n",
    "\n",
    "print(\"El nombre del candidato A es\", Candidatos[\"CandidatoA\"][\"nombre\"])\n",
    "\n",
    "print(\"El año de nacimiento del candidato B\", Candidatos[\"CandidatoB\"][\"anio\"])\n",
    "\n",
    "print(\"El apellido del candidato C\", Candidatos[\"CandidatoC\"][\"apellido\"])\n",
    "\n",
    "print(\"El año de nacimiento del candidato A\", Candidatos[\"CandidatoA\"][\"anio\"])\n",
    "\n",
    "if \"CandidatoD\" in Candidatos:\n",
    "    print(\"Candidato D encontrado\")\n",
    "else:\n",
    "    print(\"Este candidato no existe\")\n",
    "\n",
    "anios=(Candidatos[\"CandidatoA\"][\"anio\"])+(Candidatos[\"CandidatoB\"][\"anio\"])+(Candidatos[\"CandidatoC\"][\"anio\"])\n",
    "\n",
    "print(anios)"
   ]
  },
  {
   "cell_type": "markdown",
   "metadata": {},
   "source": [
    "Ejercicio 17"
   ]
  },
  {
   "cell_type": "code",
   "execution_count": null,
   "metadata": {},
   "outputs": [],
   "source": [
    "\"\"\"\n",
    "Declarar un diccionario con la cantidad de votos que recibió cada candidato de las\n",
    "elecciones del 2019. Crear un programa en el que el usuario ingrese el nombre del\n",
    "candidato, y muestre la cantidad de votos del mismo. Si el candidato no existe, debe\n",
    "devolver un error. (La función .get() puede resultar útil)\n",
    "\"\"\""
   ]
  }
 ],
 "metadata": {
  "kernelspec": {
   "display_name": "Python 3",
   "language": "python",
   "name": "python3"
  },
  "language_info": {
   "codemirror_mode": {
    "name": "ipython",
    "version": 3
   },
   "file_extension": ".py",
   "mimetype": "text/x-python",
   "name": "python",
   "nbconvert_exporter": "python",
   "pygments_lexer": "ipython3",
   "version": "3.11.5"
  },
  "orig_nbformat": 4
 },
 "nbformat": 4,
 "nbformat_minor": 2
}
