{
 "cells": [
  {
   "cell_type": "markdown",
   "metadata": {},
   "source": [
    "Consigna 1"
   ]
  },
  {
   "cell_type": "code",
   "execution_count": 5,
   "metadata": {},
   "outputs": [
    {
     "name": "stdout",
     "output_type": "stream",
     "text": [
      "El numero primo deseado es 7919\n",
      "Mi programa ha tardado en ejecutarse:  0.010994195938110352  segundos\n"
     ]
    }
   ],
   "source": [
    "\"\"\"\n",
    "Encontrar el número primo número mil. Elaborar una función que, indicando un número por parámetro, \n",
    "devuelva el número primo deseado. Se medirá el rendimiento de la función.\n",
    "\"\"\"\n",
    "#Importamos math porque no se pueden encontrar divisores por encima de la raíz de un numero, \n",
    "#por lo que servirá para optimizar las divisiones a realizar y el tiempo de ejecucion de la funcion\n",
    "\n",
    "#Primero hacemos una función que compruebe si el número es primo, mediante dos condiciones: \n",
    "#si es mayor a 2 y si no es divisible por números menores a su raíz cuadrada\n",
    "\n",
    "#Después hacemos una función que chequea por cada número si es primo con la función anterior, e incrementa el contador.\n",
    "#Cuando el contador llega al número deseado (n), devuelve el número primo correspondiente\n",
    "\n",
    "\n",
    "import math\n",
    "\n",
    "def es_primo(n):\n",
    "    if n<2:\n",
    "        return False\n",
    "    for x in range(2, int(math.sqrt(n))+1):\n",
    "        if n%x == 0:\n",
    "            return False\n",
    "    return True\n",
    "\n",
    "def numero_primo_deseado(n):\n",
    "    if n <= 0:\n",
    "        return None\n",
    "    contador = 0\n",
    "    numero_primo = 2\n",
    "    while contador < n:\n",
    "        if es_primo(numero_primo):\n",
    "            contador += 1\n",
    "        if contador < n:\n",
    "            numero_primo += 1\n",
    "    return numero_primo\n",
    "   \n",
    "#Se define n del argumento de la función numero_primo_deseado\n",
    "n = 1000  # Encuentra el número primo mil\n",
    "# Se imprime con: print(\"El numero primo deseado es\", numero_primo_deseado(n))\n",
    "\n",
    "#Verificamos cual es el tiempo que tarda en ejecutar la funcion\n",
    "import time\n",
    "\n",
    "tiempo_inicial = time.time()\n",
    "\n",
    "print(\"El numero primo deseado es\", numero_primo_deseado(n))\n",
    "\n",
    "tiempo_final = time.time()\n",
    "\n",
    "print(\"Mi programa ha tardado en ejecutarse: \", tiempo_final-tiempo_inicial, \" segundos\")"
   ]
  }
 ],
 "metadata": {
  "kernelspec": {
   "display_name": "Python 3",
   "language": "python",
   "name": "python3"
  },
  "language_info": {
   "codemirror_mode": {
    "name": "ipython",
    "version": 3
   },
   "file_extension": ".py",
   "mimetype": "text/x-python",
   "name": "python",
   "nbconvert_exporter": "python",
   "pygments_lexer": "ipython3",
   "version": "3.11.6"
  }
 },
 "nbformat": 4,
 "nbformat_minor": 2
}
