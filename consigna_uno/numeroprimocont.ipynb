{
  "nbformat": 4,
  "nbformat_minor": 0,
  "metadata": {
    "colab": {
      "provenance": [],
      "authorship_tag": "ABX9TyMuq0hnOtYAS2F0XxqeoHyf",
      "include_colab_link": true
    },
    "kernelspec": {
      "name": "python3",
      "display_name": "Python 3"
    },
    "language_info": {
      "name": "python"
    }
  },
  "cells": [
    {
      "cell_type": "markdown",
      "metadata": {
        "id": "view-in-github",
        "colab_type": "text"
      },
      "source": [
        "<a href=\"https://colab.research.google.com/github/ClauBDA/metop/blob/master/numeroprimocont.ipynb\" target=\"_parent\"><img src=\"https://colab.research.google.com/assets/colab-badge.svg\" alt=\"Open In Colab\"/></a>"
      ]
    },
    {
      "cell_type": "code",
      "execution_count": null,
      "metadata": {
        "id": "zNAalsyoXCnq"
      },
      "outputs": [],
      "source": [
        "def primo(n):\n",
        "  if n <= 1:\n",
        "    return False\n",
        "  for i in range(2, n):\n",
        "    if (n % i)== 0:\n",
        "      return False\n",
        "  return True\n",
        "\n",
        "print (primo(567))"
      ]
    },
    {
      "cell_type": "code",
      "source": [
        "import time\n",
        "\n",
        "#### contador y while\n",
        "def numero_primo_deseado(n):\n",
        "    if n <= 0:\n",
        "        return None\n",
        "    contador = 0\n",
        "    numero_primo = 2\n",
        "    while contador < n:\n",
        "        if primo(numero_primo):\n",
        "            contador += 1\n",
        "        if contador < n:\n",
        "            numero_primo += 1\n",
        "    return numero_primo\n",
        "\n",
        "n = 10000\n",
        "\n",
        "tiempo_inicial = time.time()\n",
        "tiempo_final = time.time()\n",
        "\n",
        "print(numero_primo_deseado(n))\n",
        "print(tiempo_final-tiempo_inicial)"
      ],
      "metadata": {
        "id": "eIkAauCOwZNg"
      },
      "execution_count": null,
      "outputs": []
    }
  ]
}