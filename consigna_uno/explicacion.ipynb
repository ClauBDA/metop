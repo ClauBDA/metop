{
 "cells": [
  {
   "cell_type": "markdown",
   "metadata": {},
   "source": [
    "Consigna 1"
   ]
  },
  {
   "cell_type": "code",
   "execution_count": 5,
   "metadata": {},
   "outputs": [
    {
     "name": "stdout",
     "output_type": "stream",
     "text": [
      "El numero primo deseado es 7919\n",
      "Mi programa ha tardado en ejecutarse:  0.010994195938110352  segundos\n"
     ]
    }
   ],
   "source": [
    "\"\"\"\n",
    "Encontrar el número primo número mil. Elaborar una función que, indicando un número por parámetro, \n",
    "devuelva el número primo deseado. Se medirá el rendimiento de la función.\n",
    "\"\"\"\n",
    "#Importamos math porque no se pueden encontrar divisores por encima de la raíz de un numero, \n",
    "#por lo que servirá para optimizar las divisiones a realizar y el tiempo de ejecucion de la funcion\n",
    "\n",
    "#Primero hacemos una función que compruebe si el número es primo, mediante dos condiciones: \n",
    "#si es mayor a 2 y si no es divisible por números menores a su raíz cuadrada\n",
    "\n",
    "#Después , itera a través de los números desde 2 hasta la raíz cuadrada de n (utilizando for x in range(2, int(math.sqrt(n))+1)) \n",
    "y verifica si n es divisible por algún número en ese rango. Si lo es, devuelve False porque eso significa que n no es primo.\n",
    "#Si no se encuentra ningún divisor en el rango, devuelve True, lo que indica que n es un número primo.\n",
    "#En esta expresiòn utilizamos: \n",
    "1) x es una variable que se utiliza en bucle, en este caso representara los nùmero que van desde el 2 hasta la raiz cuadrada de n.\n",
    "2) in indica que X se tomara de una secuencia\n",
    "3) el 2 indica el valor de inicio del rango\n",
    "4) math.sqrt(n) calcula la raíz cuadrada de n. La función sqrt se importa del módulo math al comienzo del código.\n",
    "5) int se utiliza para convertir el resultado de math.sqrt(n) en un entero, ya que range espera valores enteros.\n",
    "6) se suma 1 al resultado para asegurarse de que el valor final del rango incluya la raíz cuadrada de n.\n",
    "\n",
    "import math\n",
    "\n",
    "def es_primo(n):\n",
    "    if n<2:\n",
    "        return False\n",
    "    for x in range(2, int(math.sqrt(n))+1): \n",
    "        if n%x == 0:\n",
    "            return False\n",
    "    return True\n",
    "\n",
    "# Luego vamos a escribir una funciòn que busque el nùmero primo numero 1000 partiendo del numero 2.\n",
    "# Despùes se iniciaria un bucle while que continuara hasta que el contador alcance el numero deseado (n, en este caso 1000)\n",
    "# En cada  iteración del bucle, verifica si el número primo actual (numero_primo) es realmente primo utilizando la función es_primo que definimos anteriormente. Si es primo, incrementa el contador en 1.\n",
    "# Si el contador todavía es menor que n, incrementa el número primo actual en 1 y repite el proceso.\n",
    "# Una vez que el contador alcanza n, la función devuelve el número primo deseado.\n",
    "def numero_primo_deseado(n):\n",
    "    if n <= 0:\n",
    "        return None\n",
    "    contador = 0\n",
    "    numero_primo = 2\n",
    "    while contador < n:\n",
    "        if es_primo(numero_primo):\n",
    "            contador += 1\n",
    "        if contador < n:\n",
    "            numero_primo += 1\n",
    "    return numero_primo\n",
    "   \n",
    "#Se define n del argumento de la función numero_primo_deseado\n",
    "n = 1000  # Encuentra el número primo mil\n",
    "# Se imprime con: print(\"El numero primo deseado es\", numero_primo_deseado(n))\n",
    "\n",
    "#Verificamos cual es el tiempo que tarda en ejecutar la funcion\n",
    "import time\n",
    "\n",
    "tiempo_inicial = time.time()\n",
    "\n",
    "print(\"El numero primo deseado es\", numero_primo_deseado(n))\n",
    "\n",
    "tiempo_final = time.time()\n",
    "\n",
    "print(\"Mi programa ha tardado en ejecutarse: \", tiempo_final-tiempo_inicial, \" segundos\")"
   ]
  }
 ],
 "metadata": {
  "kernelspec": {
   "display_name": "Python 3",
   "language": "python",
   "name": "python3"
  },
  "language_info": {
   "codemirror_mode": {
    "name": "ipython",
    "version": 3
   },
   "file_extension": ".py",
   "mimetype": "text/x-python",
   "name": "python",
   "nbconvert_exporter": "python",
   "pygments_lexer": "ipython3",
   "version": "3.11.6"
  }
 },
 "nbformat": 4,
 "nbformat_minor": 2
}
