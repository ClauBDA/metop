{
  "nbformat": 4,
  "nbformat_minor": 0,
  "metadata": {
    "colab": {
      "provenance": [],
      "authorship_tag": "ABX9TyOHxRjshbRvQs4H+vOtcC7x",
      "include_colab_link": true
    },
    "kernelspec": {
      "name": "python3",
      "display_name": "Python 3"
    },
    "language_info": {
      "name": "python"
    }
  },
  "cells": [
    {
      "cell_type": "markdown",
      "metadata": {
        "id": "view-in-github",
        "colab_type": "text"
      },
      "source": [
        "<a href=\"https://colab.research.google.com/github/ClauBDA/metop/blob/master/Punto4.ipynb\" target=\"_parent\"><img src=\"https://colab.research.google.com/assets/colab-badge.svg\" alt=\"Open In Colab\"/></a>"
      ]
    },
    {
      "cell_type": "markdown",
      "source": [
        "Muestreo\n",
        "\n",
        "* Paso 1: Población\n",
        "\n",
        "Unidad de Analisis: Las familias de CABA. Los electores de CABA.\n",
        "Unidad de Muestreo: Las familias de CABA. Los electores de CABA.\n",
        "Extension espacial: Ciudad Autonoma de Buenos Aires\n",
        "Extension temporal: Censo 2022. Elecciones Generales 2023.\n",
        "\n",
        "* Paso 2: Marco Muestral\n",
        "\n",
        "Resultados Generales 2023\n",
        "\n",
        "Datos definitivos Censo 2022\n",
        "\n",
        "* Paso 3: Procedimiento de Muestreo\n",
        "\n",
        "Muestreo estratificado, subdividimos el Universo de CABA en Comunas y distritos electorales, y también en sus ingresos socioeconomicos basados en un indice creado a partir de sus respuestas al censo con respecto a los materiales de la vivienda.\n",
        "\n",
        "* Paso 4: Tamaño de la Muestra\n",
        "\n",
        "CABA\n",
        "\n",
        "* Paso 5: Selección de Muestra\n",
        "\n",
        "Datos del Censo dividido en ingresos socioeconomicos (basado en los materiales que respondieron que es su vivienda), Edad promedio y Lugar de residencia (Cual es la comuna en la que estan asignados).\n",
        "Datos de las elecciones electorales en voto a los 5 partidos, como blanco también. Sumando cada distrito para organizar el total de la comuna en la que estan inscriptos.\n",
        "\n",
        "\n"
      ],
      "metadata": {
        "id": "EBQQS6Finanj"
      }
    },
    {
      "cell_type": "markdown",
      "source": [],
      "metadata": {
        "id": "ShRbuDN0yh7Q"
      }
    }
  ]
}